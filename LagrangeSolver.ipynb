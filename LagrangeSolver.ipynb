{
 "cells": [
  {
   "cell_type": "code",
   "execution_count": 22,
   "id": "013c605f",
   "metadata": {},
   "outputs": [],
   "source": [
    "import sympy as smp\n",
    "import numpy as np\n",
    "from scipy.integrate import odeint\n",
    "from scipy.integrate import solve_ivp\n",
    "import matplotlib.pyplot as plt\n",
    "from matplotlib import animation\n",
    "from matplotlib.animation import FuncAnimation\n",
    "\n",
    "smp.init_printing()\n",
    "\n",
    "# Enable interactive plot\n",
    "%matplotlib notebook\n",
    "\n",
    "plt.style.use('dark_background')"
   ]
  },
  {
   "cell_type": "code",
   "execution_count": 23,
   "id": "fae66894",
   "metadata": {},
   "outputs": [],
   "source": [
    "# PÉNDULOS UNIDOS POR RESORTES\n",
    "# input_r = ['l*cos(phi1) * xhat + l*sin(phi1) * yhat', 'l*cos(phi2) * xhat + l*sin(phi2) * yhat']\n",
    "# input_V = '-g*l*(m1*cos(phi1) + m2*cos(phi2)) + 1/2*5*(l*((cos(phi2)-cos(phi1))**2 + (sin(phi2) - sin(phi1))**2))'\n",
    "# parameters = ['l', 'g']\n",
    "\n",
    "# initial_conditions = [np.pi, -np.pi/4, 0, 0]\n",
    "# m_values = [1, 2]\n",
    "# p_values = [1, 10]"
   ]
  },
  {
   "cell_type": "code",
   "execution_count": 24,
   "id": "e2bfb882",
   "metadata": {},
   "outputs": [],
   "source": [
    "#PÉNDULO DOBLE\n",
    "input_r = ['l*cos(phi1) * xhat + l*sin(phi1) * yhat', 'l*(cos(phi1) + cos(phi2)) * xhat + l*(sin(phi1) + sin(phi2)) * yhat']\n",
    "input_V = '-2*m1*g*l*cos(phi1) - m2*g*l*cos(phi2)'\n",
    "parameters = ['l', 'g']\n",
    "\n",
    "initial_conditions = [np.pi, -np.pi/4, 0, 0]\n",
    "m_values = [1, 2]\n",
    "p_values = [1, 10]"
   ]
  },
  {
   "cell_type": "code",
   "execution_count": 25,
   "id": "0c9ab422",
   "metadata": {},
   "outputs": [],
   "source": [
    "# PÉNDULO TRIPLE\n",
    "# input_r = ['l1*cos(phi1) * xhat + l1*sin(phi1) * yhat', '(l1*cos(phi1) + l2*cos(phi2)) * xhat + (l1*sin(phi1) + l2*sin(phi2)) * yhat', '(l1*cos(phi1) + l2*cos(phi2) + l3*cos(phi3)) * xhat + (l1*sin(phi1) + l2*sin(phi2) + l3*sin(phi3)) * yhat']\n",
    "# #input_V = '-3*m1*g*l*cos(phi1) - 2*m2*g*l*cos(phi2) - m3*g*l*cos(phi3)'\n",
    "# input_V = '-m1*g*l1*cos(phi1) - m2*g*(l1*cos(phi1) + l2*cos(phi2)) - m3*g*(l1*cos(phi1) + l2*cos(phi2) + l3*cos(phi3))'\n",
    "# parameters = ['l1', 'l2', 'l3', 'g']\n",
    "\n",
    "# initial_conditions = [np.pi, -np.pi/4, np.pi/4, 0, 0, 0]\n",
    "# m_values = [1, 2, 1.5]\n",
    "# p_values = [1, 1, 1, 10]"
   ]
  },
  {
   "cell_type": "code",
   "execution_count": 26,
   "id": "a21a4b5b",
   "metadata": {},
   "outputs": [],
   "source": [
    "# # PÉNDULO CUÁDRUPLE\n",
    "# input_r = ['L*cos(phi1) * xhat + L*sin(phi1) * yhat', '(L*cos(phi1) + L*cos(phi2)) * xhat + (L*sin(phi1) + L*sin(phi2)) * yhat', '(L*cos(phi1) + L*cos(phi2) + L*cos(phi3)) * xhat + (L*sin(phi1) + L*sin(phi2) + L*sin(phi3)) * yhat', '(L*cos(phi1) + L*cos(phi2) + L*cos(phi3) + L*cos(phi4)) * xhat + (L*sin(phi1) + L*sin(phi2) + L*sin(phi3) + L*sin(phi4)) * yhat']\n",
    "# input_V = '-m*g*L*cos(phi1) - m*g*(L*cos(phi1) + L*cos(phi2)) - m*g*(L*cos(phi1) + L*cos(phi2) + L*cos(phi3)) - m*g*(L*cos(phi1) + L*cos(phi2) + L*cos(phi3) + L*cos(phi4))'\n",
    "# parameters = ['L', 'g']\n",
    "\n",
    "# initial_conditions = [np.pi, -np.pi/4, np.pi/4, 0, 0, 0, 0, 0]\n",
    "# m_values = [1]\n",
    "# p_values = [1, 10]"
   ]
  },
  {
   "cell_type": "code",
   "execution_count": 27,
   "id": "e0b7a0d2",
   "metadata": {},
   "outputs": [],
   "source": [
    "# PÉNDULO CON RESORTES\n",
    "# input_r = ['r*cos(phi) * xhat + r*sin(phi) * yhat']\n",
    "# input_V = '-m1*g*r*cos(phi) + 1/2 * k * (r-l0) ** 2'\n",
    "# parameters = ['g', 'k', 'l0']\n",
    "\n",
    "# initial_conditions = [1, np.pi/2, 0, 0]\n",
    "# m_values = [1]\n",
    "# p_values = [10, 10, 0.5]"
   ]
  },
  {
   "cell_type": "code",
   "execution_count": 28,
   "id": "b37a3a24",
   "metadata": {},
   "outputs": [],
   "source": [
    "# input_r = ['l*cos(phi1) * xhat + l*sin(phi1) * yhat', 'r*cos(phi2) * xhat + r*sin(phi2) * yhat']\n",
    "# input_V = '-m1*g*l*cos(phi1) - G*m1*m2 / sqrt((l*cos(phi1) - r*cos(phi2) + 0.3)**2 + (l*sin(phi1) - r*sin(phi2) + 0.3)**2)'\n",
    "# parameters = ['g', 'l', 'G']\n",
    "\n",
    "# initial_conditions = [1, np.pi/2, 1, 0, 0, 0]\n",
    "# m_values = [1, 1]\n",
    "# p_values = [10, 1, 0.1]"
   ]
  },
  {
   "cell_type": "code",
   "execution_count": 29,
   "id": "49b3e88a",
   "metadata": {},
   "outputs": [],
   "source": [
    "# PÉNDULO CON GRAVEDAD NEWTONIANA\n",
    "# input_r = ['(x + l*cos(phi)) * xhat + l*sin(phi) * yhat']\n",
    "# input_V = '-G*m1/(L - l*cos(phi))'\n",
    "# parameters = ['G', 'l', 'L']\n",
    "\n",
    "# initial_conditions = [np.pi/2, 0, 0, 0]\n",
    "# m_values = [1]\n",
    "# p_values = [1, 1, 1.1]"
   ]
  },
  {
   "cell_type": "code",
   "execution_count": 30,
   "id": "baea5352",
   "metadata": {},
   "outputs": [],
   "source": [
    "# DOS CUERPOS\n",
    "# input_r = ['r1*cos(phi1) * xhat + r1*sin(phi1) * yhat', 'r2*cos(phi2) * xhat + r2*sin(phi2) * yhat']\n",
    "# input_V = '- G*m1*m2 / sqrt((r1*cos(phi1) - r1*cos(phi2) + e)**2 + (r1*sin(phi1) - r2*sin(phi2) + e)**2)'\n",
    "# parameters = ['G', 'e']\n",
    "\n",
    "# initial_conditions = [1, np.pi/2, 1, 0, 0, 0, 0, 0]\n",
    "# m_values = [1, 1]\n",
    "# p_values = [1, 0.1]"
   ]
  },
  {
   "cell_type": "code",
   "execution_count": 31,
   "id": "7d9a0c33",
   "metadata": {},
   "outputs": [],
   "source": [
    "# SWINGING PENDULO DOBLE\n",
    "# input_r = ['x * xhat + 0 * yhat', '(x + l1*cos(phi1)) * xhat + l1*sin(phi1) * yhat', '(x + l1*cos(phi1) + l2*cos(phi2)) * xhat + (l1*sin(phi1) + l2*sin(phi2)) * yhat']\n",
    "# input_V = '-2*m1*g*l1*cos(phi1) - m2*g*l2*cos(phi2)'\n",
    "# parameters = ['l1', 'l2', 'g']\n",
    "\n",
    "# initial_conditions = [0, np.pi, -np.pi/4, 0, 0, 0]\n",
    "# m_values = [1, 2, 1]\n",
    "# p_values = [1, 10, 1]"
   ]
  },
  {
   "cell_type": "code",
   "execution_count": 32,
   "id": "759835f5",
   "metadata": {},
   "outputs": [],
   "source": [
    "# PÉNDULO SIMPLE\n",
    "# input_r = ['(l*cos(phi)) * xhat + l*sin(phi) * yhat']\n",
    "# input_V = '-m1*g*l*cos(phi)'\n",
    "# parameters = ['l', 'g']\n",
    "\n",
    "# initial_conditions = [np.pi, 0]\n",
    "# m_values = [1]\n",
    "# p_values = [1, 10]"
   ]
  },
  {
   "cell_type": "code",
   "execution_count": 33,
   "id": "490eead8",
   "metadata": {},
   "outputs": [],
   "source": [
    "fps = 50\n",
    "t_final = 60\n",
    "frames_number = fps*t_final\n",
    "t_values = np.linspace(0, t_final, frames_number)"
   ]
  },
  {
   "cell_type": "code",
   "execution_count": 34,
   "id": "56a9033c",
   "metadata": {},
   "outputs": [
    {
     "data": {
      "text/latex": [
       "$\\displaystyle \\left( \\left[ \\left[\\begin{matrix}l \\cos{\\left(\\phi_{1}{\\left(t \\right)} \\right)}\\\\l \\sin{\\left(\\phi_{1}{\\left(t \\right)} \\right)}\\end{matrix}\\right], \\  \\left[\\begin{matrix}l \\left(\\cos{\\left(\\phi_{1}{\\left(t \\right)} \\right)} + \\cos{\\left(\\phi_{2}{\\left(t \\right)} \\right)}\\right)\\\\l \\left(\\sin{\\left(\\phi_{1}{\\left(t \\right)} \\right)} + \\sin{\\left(\\phi_{2}{\\left(t \\right)} \\right)}\\right)\\end{matrix}\\right]\\right], \\  - 2 g l m_{1} \\cos{\\left(\\phi_{1}{\\left(t \\right)} \\right)} - g l m_{2} \\cos{\\left(\\phi_{2}{\\left(t \\right)} \\right)}\\right)$"
      ],
      "text/plain": [
       "⎛⎡⎡l⋅cos(φ₁(t))⎤  ⎡l⋅(cos(φ₁(t)) + cos(φ₂(t)))⎤⎤                              \n",
       "⎜⎢⎢            ⎥, ⎢                           ⎥⎥, -2⋅g⋅l⋅m₁⋅cos(φ₁(t)) - g⋅l⋅m\n",
       "⎝⎣⎣l⋅sin(φ₁(t))⎦  ⎣l⋅(sin(φ₁(t)) + sin(φ₂(t)))⎦⎦                              \n",
       "\n",
       "            ⎞\n",
       "₂⋅cos(φ₂(t))⎟\n",
       "            ⎠"
      ]
     },
     "execution_count": 34,
     "metadata": {},
     "output_type": "execute_result"
    }
   ],
   "source": [
    "t = smp.symbols('t', real=True, positive=True)\n",
    "r = []\n",
    "\n",
    "q = []\n",
    "q_to_coordinates = {}\n",
    "n = 0\n",
    "for input_ri in input_r:\n",
    "    # Get the symbols\n",
    "    eq = smp.S(input_ri, evaluate=False)\n",
    "    symbols = eq.free_symbols\n",
    "\n",
    "    for symbol in symbols:\n",
    "        if str(symbol) not in parameters and str(symbol) not in q_to_coordinates and str(symbol) not in ('xhat', 'yhat'):\n",
    "            q.append(smp.Function(str(symbol))(t))\n",
    "            q_to_coordinates[str(symbol)] = q[n]\n",
    "            n+=1\n",
    "        \n",
    "    \n",
    "    r_i = smp.parse_expr(input_ri, q_to_coordinates)\n",
    "\n",
    "    # Cartesian coordinates\n",
    "    if smp.diff(r_i, 'rhat') == 0 and smp.diff(r_i, 'phihat') == 0:\n",
    "        rx = smp.diff(r_i, 'xhat')\n",
    "        ry = smp.diff(r_i, 'yhat')\n",
    "        r.append([smp.Matrix([rx, ry])][0])\n",
    "\n",
    "V = smp.parse_expr(input_V, q_to_coordinates)\n",
    "        \n",
    "\n",
    "r, V"
   ]
  },
  {
   "cell_type": "code",
   "execution_count": 35,
   "id": "a185bd11",
   "metadata": {},
   "outputs": [],
   "source": [
    "N = len(r) # número de partículas\n",
    "m = smp.symbols(['m%d' % (i + 1) for i in range(N)], real=True, positive=True)\n",
    "p = smp.symbols(tuple(parameters), real=True)\n",
    "\n",
    "q_d = []\n",
    "q_dd = []\n",
    "for u in range(n):\n",
    "    q_d.append(smp.diff(q[u],t))\n",
    "    q_dd.append(smp.diff(q_d[u],t))\n"
   ]
  },
  {
   "cell_type": "code",
   "execution_count": 36,
   "id": "fc61bb81",
   "metadata": {},
   "outputs": [
    {
     "name": "stdout",
     "output_type": "stream",
     "text": [
      "El lagrangiano:\n"
     ]
    },
    {
     "data": {
      "image/png": "[encoded data removed]",
      "text/latex": [
       "$\\displaystyle \\frac{l \\left(4 g m_{1} \\cos{\\left(\\phi_{1}{\\left(t \\right)} \\right)} + 2 g m_{2} \\cos{\\left(\\phi_{2}{\\left(t \\right)} \\right)} + l m_{1} \\left(\\frac{d}{d t} \\phi_{1}{\\left(t \\right)}\\right)^{2} + 2 l m_{2} \\cos{\\left(\\phi_{1}{\\left(t \\right)} - \\phi_{2}{\\left(t \\right)} \\right)} \\frac{d}{d t} \\phi_{1}{\\left(t \\right)} \\frac{d}{d t} \\phi_{2}{\\left(t \\right)} + l m_{2} \\left(\\frac{d}{d t} \\phi_{1}{\\left(t \\right)}\\right)^{2} + l m_{2} \\left(\\frac{d}{d t} \\phi_{2}{\\left(t \\right)}\\right)^{2}\\right)}{2}$"
      ],
      "text/plain": [
       "  ⎛                                                        2                  \n",
       "  ⎜                                             ⎛d        ⎞                   \n",
       "l⋅⎜4⋅g⋅m₁⋅cos(φ₁(t)) + 2⋅g⋅m₂⋅cos(φ₂(t)) + l⋅m₁⋅⎜──(φ₁(t))⎟  + 2⋅l⋅m₂⋅cos(φ₁(t\n",
       "  ⎝                                             ⎝dt       ⎠                   \n",
       "──────────────────────────────────────────────────────────────────────────────\n",
       "                                                                          2   \n",
       "\n",
       "                                                 2                   2⎞\n",
       "           d         d                ⎛d        ⎞         ⎛d        ⎞ ⎟\n",
       ") - φ₂(t))⋅──(φ₁(t))⋅──(φ₂(t)) + l⋅m₂⋅⎜──(φ₁(t))⎟  + l⋅m₂⋅⎜──(φ₂(t))⎟ ⎟\n",
       "           dt        dt               ⎝dt       ⎠         ⎝dt       ⎠ ⎠\n",
       "───────────────────────────────────────────────────────────────────────\n",
       "                                                                       "
      ]
     },
     "execution_count": 36,
     "metadata": {},
     "output_type": "execute_result"
    }
   ],
   "source": [
    "# Calculo la energía cinética \n",
    "\n",
    "T = 0\n",
    "for u in range(n):\n",
    "    for v in range(n):\n",
    "        for i in range(N):\n",
    "            T += m[i]*r[i].diff(q[u]).dot(r[i].diff(q[v])) * q_d[u] * q_d[v]\n",
    "            \n",
    "T = smp.Rational(1,2)*T\n",
    "\n",
    "L = T-V\n",
    "\n",
    "print('El lagrangiano:')\n",
    "L.simplify()"
   ]
  },
  {
   "cell_type": "code",
   "execution_count": 37,
   "id": "5fcd05da",
   "metadata": {},
   "outputs": [
    {
     "name": "stdout",
     "output_type": "stream",
     "text": [
      "Las ecuaciones de euler lagrange:\n"
     ]
    },
    {
     "data": {
      "image/png": "[encoded data removed]",
      "text/latex": [
       "$\\displaystyle \\left[ - 2 g l m_{1} \\sin{\\left(\\phi_{1}{\\left(t \\right)} \\right)} - l^{2} \\left(m_{1} \\frac{d^{2}}{d t^{2}} \\phi_{1}{\\left(t \\right)} - m_{2} \\left(\\frac{d}{d t} \\phi_{1}{\\left(t \\right)} - \\frac{d}{d t} \\phi_{2}{\\left(t \\right)}\\right) \\sin{\\left(\\phi_{1}{\\left(t \\right)} - \\phi_{2}{\\left(t \\right)} \\right)} \\frac{d}{d t} \\phi_{2}{\\left(t \\right)} + m_{2} \\cos{\\left(\\phi_{1}{\\left(t \\right)} - \\phi_{2}{\\left(t \\right)} \\right)} \\frac{d^{2}}{d t^{2}} \\phi_{2}{\\left(t \\right)} + m_{2} \\frac{d^{2}}{d t^{2}} \\phi_{1}{\\left(t \\right)}\\right) + m_{2} \\left(- l^{2} \\sin{\\left(\\phi_{1}{\\left(t \\right)} \\right)} \\cos{\\left(\\phi_{2}{\\left(t \\right)} \\right)} + l^{2} \\sin{\\left(\\phi_{2}{\\left(t \\right)} \\right)} \\cos{\\left(\\phi_{1}{\\left(t \\right)} \\right)}\\right) \\frac{d}{d t} \\phi_{1}{\\left(t \\right)} \\frac{d}{d t} \\phi_{2}{\\left(t \\right)}, \\  - g l m_{2} \\sin{\\left(\\phi_{2}{\\left(t \\right)} \\right)} - l^{2} m_{2} \\left(- \\left(\\frac{d}{d t} \\phi_{1}{\\left(t \\right)} - \\frac{d}{d t} \\phi_{2}{\\left(t \\right)}\\right) \\sin{\\left(\\phi_{1}{\\left(t \\right)} - \\phi_{2}{\\left(t \\right)} \\right)} \\frac{d}{d t} \\phi_{1}{\\left(t \\right)} + \\cos{\\left(\\phi_{1}{\\left(t \\right)} - \\phi_{2}{\\left(t \\right)} \\right)} \\frac{d^{2}}{d t^{2}} \\phi_{1}{\\left(t \\right)} + \\frac{d^{2}}{d t^{2}} \\phi_{2}{\\left(t \\right)}\\right) + m_{2} \\left(l^{2} \\sin{\\left(\\phi_{1}{\\left(t \\right)} \\right)} \\cos{\\left(\\phi_{2}{\\left(t \\right)} \\right)} - l^{2} \\sin{\\left(\\phi_{2}{\\left(t \\right)} \\right)} \\cos{\\left(\\phi_{1}{\\left(t \\right)} \\right)}\\right) \\frac{d}{d t} \\phi_{1}{\\left(t \\right)} \\frac{d}{d t} \\phi_{2}{\\left(t \\right)}\\right]$"
      ],
      "text/plain": [
       "⎡                          ⎛     2                                            \n",
       "⎢                        2 ⎜    d              ⎛d           d        ⎞        \n",
       "⎢-2⋅g⋅l⋅m₁⋅sin(φ₁(t)) - l ⋅⎜m₁⋅───(φ₁(t)) - m₂⋅⎜──(φ₁(t)) - ──(φ₂(t))⎟⋅sin(φ₁(\n",
       "⎢                          ⎜     2             ⎝dt          dt       ⎠        \n",
       "⎣                          ⎝   dt                                             \n",
       "\n",
       "                                                2               2       ⎞     \n",
       "            d                                  d               d        ⎟     \n",
       "t) - φ₂(t))⋅──(φ₂(t)) + m₂⋅cos(φ₁(t) - φ₂(t))⋅───(φ₂(t)) + m₂⋅───(φ₁(t))⎟ + m₂\n",
       "            dt                                  2               2       ⎟     \n",
       "                                              dt              dt        ⎠     \n",
       "\n",
       "                                                                              \n",
       " ⎛   2                          2                      ⎞ d         d          \n",
       "⋅⎝- l ⋅sin(φ₁(t))⋅cos(φ₂(t)) + l ⋅sin(φ₂(t))⋅cos(φ₁(t))⎠⋅──(φ₁(t))⋅──(φ₂(t)), \n",
       "                                                         dt        dt         \n",
       "                                                                              \n",
       "\n",
       "                           ⎛                                                  \n",
       "                      2    ⎜  ⎛d           d        ⎞                    d    \n",
       "-g⋅l⋅m₂⋅sin(φ₂(t)) - l ⋅m₂⋅⎜- ⎜──(φ₁(t)) - ──(φ₂(t))⎟⋅sin(φ₁(t) - φ₂(t))⋅──(φ₁\n",
       "                           ⎜  ⎝dt          dt       ⎠                    dt   \n",
       "                           ⎝                                                  \n",
       "\n",
       "                            2            2       ⎞                            \n",
       "                           d            d        ⎟      ⎛ 2                   \n",
       "(t)) + cos(φ₁(t) - φ₂(t))⋅───(φ₁(t)) + ───(φ₂(t))⎟ + m₂⋅⎝l ⋅sin(φ₁(t))⋅cos(φ₂(\n",
       "                            2            2       ⎟                            \n",
       "                          dt           dt        ⎠                            \n",
       "\n",
       "                                                   ⎤\n",
       "       2                      ⎞ d         d        ⎥\n",
       "t)) - l ⋅sin(φ₂(t))⋅cos(φ₁(t))⎠⋅──(φ₁(t))⋅──(φ₂(t))⎥\n",
       "                                dt        dt       ⎥\n",
       "                                                   ⎦"
      ]
     },
     "execution_count": 37,
     "metadata": {},
     "output_type": "execute_result"
    }
   ],
   "source": [
    "E_L = [smp.diff(L, q[u]) - smp.diff(smp.diff(L, q_d[u]), t).simplify() for u in range(n)]\n",
    "\n",
    "print('Las ecuaciones de euler lagrange:')\n",
    "E_L"
   ]
  },
  {
   "cell_type": "code",
   "execution_count": 49,
   "id": "a85ac2d8",
   "metadata": {
    "scrolled": true
   },
   "outputs": [
    {
     "data": {
      "image/png": "[encoded data removed]",
      "text/latex": [
       "$\\displaystyle \\left[ \\frac{- 2 g m_{1} \\sin{\\left(\\phi_{1}{\\left(t \\right)} \\right)} - \\frac{g m_{2} \\sin{\\left(\\phi_{1}{\\left(t \\right)} - 2 \\phi_{2}{\\left(t \\right)} \\right)}}{2} + \\frac{g m_{2} \\sin{\\left(\\phi_{1}{\\left(t \\right)} \\right)}}{2} - l m_{2} \\sin{\\left(\\phi_{1}{\\left(t \\right)} - \\phi_{2}{\\left(t \\right)} \\right)} \\left(\\frac{d}{d t} \\phi_{2}{\\left(t \\right)}\\right)^{2} - \\frac{l m_{2} \\sin{\\left(2 \\phi_{1}{\\left(t \\right)} - 2 \\phi_{2}{\\left(t \\right)} \\right)} \\left(\\frac{d}{d t} \\phi_{1}{\\left(t \\right)}\\right)^{2}}{2}}{l \\left(m_{1} - m_{2} \\cos^{2}{\\left(\\phi_{1}{\\left(t \\right)} - \\phi_{2}{\\left(t \\right)} \\right)} + m_{2}\\right)}, \\  \\frac{g m_{1} m_{2} \\sin{\\left(2 \\phi_{1}{\\left(t \\right)} - \\phi_{2}{\\left(t \\right)} \\right)} + g m_{1} m_{2} \\sin{\\left(\\phi_{2}{\\left(t \\right)} \\right)} - g m_{1} m_{2} \\sin{\\left(\\phi_{2}{\\left(t \\right)} \\right)} - g m_{2} m_{2} \\sin{\\left(\\phi_{2}{\\left(t \\right)} \\right)} + l m_{1} m_{2} \\sin{\\left(\\phi_{1}{\\left(t \\right)} - \\phi_{2}{\\left(t \\right)} \\right)} \\left(\\frac{d}{d t} \\phi_{1}{\\left(t \\right)}\\right)^{2} + l m_{2}^{2} \\sin{\\left(\\phi_{1}{\\left(t \\right)} - \\phi_{2}{\\left(t \\right)} \\right)} \\left(\\frac{d}{d t} \\phi_{1}{\\left(t \\right)}\\right)^{2} + \\frac{l m_{2}^{2} \\sin{\\left(2 \\phi_{1}{\\left(t \\right)} - 2 \\phi_{2}{\\left(t \\right)} \\right)} \\left(\\frac{d}{d t} \\phi_{2}{\\left(t \\right)}\\right)^{2}}{2}}{l m_{2} \\left(m_{1} - m_{2} \\cos^{2}{\\left(\\phi_{1}{\\left(t \\right)} - \\phi_{2}{\\left(t \\right)} \\right)} + m_{2}\\right)}\\right]$"
      ],
      "text/plain": [
       "⎡                                                                             \n",
       "⎢                                                                             \n",
       "⎢                                                                             \n",
       "⎢                     g⋅m₂⋅sin(φ₁(t) - 2⋅φ₂(t))   g⋅m₂⋅sin(φ₁(t))             \n",
       "⎢-2⋅g⋅m₁⋅sin(φ₁(t)) - ───────────────────────── + ─────────────── - l⋅m₂⋅sin(φ\n",
       "⎢                                 2                      2                    \n",
       "⎢─────────────────────────────────────────────────────────────────────────────\n",
       "⎢                                                         ⎛           2       \n",
       "⎣                                                       l⋅⎝m₁ - m₂⋅cos (φ₁(t) \n",
       "\n",
       "                                                                    2         \n",
       "                                                         ⎛d        ⎞          \n",
       "                         2   l⋅m₂⋅sin(2⋅φ₁(t) - 2⋅φ₂(t))⋅⎜──(φ₁(t))⎟          \n",
       "              ⎛d        ⎞                                ⎝dt       ⎠          \n",
       "₁(t) - φ₂(t))⋅⎜──(φ₂(t))⎟  - ────────────────────────────────────────  g⋅m₁⋅m₂\n",
       "              ⎝dt       ⎠                       2                             \n",
       "─────────────────────────────────────────────────────────────────────, ───────\n",
       "             ⎞                                                                \n",
       "- φ₂(t)) + m₂⎠                                                                \n",
       "\n",
       "                                                                              \n",
       "                                                                              \n",
       "                                                                              \n",
       "                                                                              \n",
       "⋅sin(2⋅φ₁(t) - φ₂(t)) + g⋅m₁⋅m₂⋅sin(φ₂(t)) - g⋅m₁⋅m₂⋅sin(φ₂(t)) - g⋅m₂⋅m₂⋅sin(\n",
       "                                                                              \n",
       "──────────────────────────────────────────────────────────────────────────────\n",
       "                                                                              \n",
       "                                                                              \n",
       "\n",
       "                                                                              \n",
       "                                                                              \n",
       "                                               2                              \n",
       "                                    ⎛d        ⎞        2                    ⎛d\n",
       "φ₂(t)) + l⋅m₁⋅m₂⋅sin(φ₁(t) - φ₂(t))⋅⎜──(φ₁(t))⎟  + l⋅m₂ ⋅sin(φ₁(t) - φ₂(t))⋅⎜─\n",
       "                                    ⎝dt       ⎠                             ⎝d\n",
       "──────────────────────────────────────────────────────────────────────────────\n",
       "         ⎛           2                    ⎞                                   \n",
       "    l⋅m₂⋅⎝m₁ - m₂⋅cos (φ₁(t) - φ₂(t)) + m₂⎠                                   \n",
       "\n",
       "                                                     2⎤\n",
       "                 2                        ⎛d        ⎞ ⎥\n",
       "         2   l⋅m₂ ⋅sin(2⋅φ₁(t) - 2⋅φ₂(t))⋅⎜──(φ₂(t))⎟ ⎥\n",
       "        ⎞                                 ⎝dt       ⎠ ⎥\n",
       "─(φ₁(t))⎟  + ─────────────────────────────────────────⎥\n",
       "t       ⎠                        2                    ⎥\n",
       "──────────────────────────────────────────────────────⎥\n",
       "                                                      ⎥\n",
       "                                                      ⎦"
      ]
     },
     "execution_count": 49,
     "metadata": {},
     "output_type": "execute_result"
    }
   ],
   "source": [
    "#sols = smp.linsolve(E_L, tuple(q_dd))\n",
    "#sols"
   ]
  },
  {
   "cell_type": "code",
   "execution_count": 39,
   "id": "5833d989",
   "metadata": {},
   "outputs": [
    {
     "data": {
      "image/png": "[encoded data removed]",
      "text/latex": [
       "$\\displaystyle \\left\\{ \\frac{d^{2}}{d t^{2}} \\phi_{1}{\\left(t \\right)} : - \\frac{2 g m_{1} \\sin{\\left(\\phi_{1}{\\left(t \\right)} \\right)} + l m_{2} \\sin{\\left(\\phi_{1}{\\left(t \\right)} - \\phi_{2}{\\left(t \\right)} \\right)} \\left(\\frac{d}{d t} \\phi_{2}{\\left(t \\right)}\\right)^{2} + l m_{2} \\cos{\\left(\\phi_{1}{\\left(t \\right)} - \\phi_{2}{\\left(t \\right)} \\right)} \\frac{d^{2}}{d t^{2}} \\phi_{2}{\\left(t \\right)}}{l \\left(m_{1} + m_{2}\\right)}, \\  \\frac{d^{2}}{d t^{2}} \\phi_{2}{\\left(t \\right)} : - \\frac{g m_{2} \\sin{\\left(\\phi_{2}{\\left(t \\right)} \\right)}}{l m_{2}} + \\sin{\\left(\\phi_{1}{\\left(t \\right)} - \\phi_{2}{\\left(t \\right)} \\right)} \\left(\\frac{d}{d t} \\phi_{1}{\\left(t \\right)}\\right)^{2} - \\cos{\\left(\\phi_{1}{\\left(t \\right)} - \\phi_{2}{\\left(t \\right)} \\right)} \\frac{d^{2}}{d t^{2}} \\phi_{1}{\\left(t \\right)}\\right\\}$"
      ],
      "text/plain": [
       "⎧             ⎛                                                       2       \n",
       "⎪             ⎜                                            ⎛d        ⎞        \n",
       "⎪            -⎜2⋅g⋅m₁⋅sin(φ₁(t)) + l⋅m₂⋅sin(φ₁(t) - φ₂(t))⋅⎜──(φ₂(t))⎟  + l⋅m₂\n",
       "⎪  2          ⎜                                            ⎝dt       ⎠        \n",
       "⎨ d           ⎝                                                               \n",
       "⎪───(φ₁(t)): ─────────────────────────────────────────────────────────────────\n",
       "⎪  2                                                    l⋅(m₁ + m₂)           \n",
       "⎪dt                                                                           \n",
       "⎩                                                                             \n",
       "\n",
       "                      2       ⎞                                               \n",
       "                     d        ⎟                                               \n",
       "⋅cos(φ₁(t) - φ₂(t))⋅───(φ₂(t))⎟                                               \n",
       "                      2       ⎟     2                                         \n",
       "                    dt        ⎠    d            g⋅m₂⋅sin(φ₂(t))               \n",
       "────────────────────────────────, ───(φ₂(t)): - ─────────────── + sin(φ₁(t) - \n",
       "                                    2                 l⋅m₂                    \n",
       "                                  dt                                          \n",
       "                                                                              \n",
       "\n",
       "                                                   ⎫\n",
       "                                                   ⎪\n",
       "                                                   ⎪\n",
       "                  2                        2       ⎪\n",
       "       ⎛d        ⎞                        d        ⎬\n",
       "φ₂(t))⋅⎜──(φ₁(t))⎟  - cos(φ₁(t) - φ₂(t))⋅───(φ₁(t))⎪\n",
       "       ⎝dt       ⎠                         2       ⎪\n",
       "                                         dt        ⎪\n",
       "                                                   ⎭"
      ]
     },
     "execution_count": 39,
     "metadata": {},
     "output_type": "execute_result"
    }
   ],
   "source": [
    "sols = {}\n",
    "for acceleration, equation in zip(q_dd, E_L):\n",
    "    c = smp.diff(equation, acceleration)\n",
    "    solution = (acceleration - equation/c).simplify()\n",
    "    sols[acceleration] = solution\n",
    "\n",
    "sols"
   ]
  },
  {
   "cell_type": "code",
   "execution_count": 40,
   "id": "ff1b420a",
   "metadata": {},
   "outputs": [],
   "source": [
    "dvdt_f = [smp.lambdify((t,p,m,q,q_d), sols[q_dd[u]]) for u in range(n)]\n",
    "drdt_f = [smp.lambdify((t,p,m,q,q_d), q_d[u]) for u in range(n)]\n",
    "\n",
    "dSdt_f = drdt_f + dvdt_f\n",
    "def dSdt(S, t, p, m):\n",
    "    return [dSdt_f[u](t,p,m,S[:n],S[n:]) for u in range(2*n)]"
   ]
  },
  {
   "cell_type": "code",
   "execution_count": 41,
   "id": "14ea67ce",
   "metadata": {},
   "outputs": [
    {
     "ename": "NameError",
     "evalue": "name 'Derivative' is not defined",
     "output_type": "error",
     "traceback": [
      "\u001b[1;31m---------------------------------------------------------------------------\u001b[0m",
      "\u001b[1;31mNameError\u001b[0m                                 Traceback (most recent call last)",
      "Input \u001b[1;32mIn [41]\u001b[0m, in \u001b[0;36m<cell line: 1>\u001b[1;34m()\u001b[0m\n\u001b[1;32m----> 1\u001b[0m ans \u001b[38;5;241m=\u001b[39m \u001b[43modeint\u001b[49m\u001b[43m(\u001b[49m\u001b[43mdSdt\u001b[49m\u001b[43m,\u001b[49m\u001b[43m \u001b[49m\u001b[43my0\u001b[49m\u001b[38;5;241;43m=\u001b[39;49m\u001b[43minitial_conditions\u001b[49m\u001b[43m,\u001b[49m\u001b[43m \u001b[49m\u001b[43mt\u001b[49m\u001b[38;5;241;43m=\u001b[39;49m\u001b[43mt_values\u001b[49m\u001b[43m,\u001b[49m\u001b[43m \u001b[49m\u001b[43margs\u001b[49m\u001b[38;5;241;43m=\u001b[39;49m\u001b[43m(\u001b[49m\u001b[43mp_values\u001b[49m\u001b[43m,\u001b[49m\u001b[43mm_values\u001b[49m\u001b[43m)\u001b[49m\u001b[43m)\u001b[49m\n\u001b[0;32m      2\u001b[0m q_f \u001b[38;5;241m=\u001b[39m ans\u001b[38;5;241m.\u001b[39mT[:n]\n",
      "File \u001b[1;32mc:\\users\\julia\\appdata\\local\\programs\\python\\python38\\lib\\site-packages\\scipy\\integrate\\odepack.py:241\u001b[0m, in \u001b[0;36modeint\u001b[1;34m(func, y0, t, args, Dfun, col_deriv, full_output, ml, mu, rtol, atol, tcrit, h0, hmax, hmin, ixpr, mxstep, mxhnil, mxordn, mxords, printmessg, tfirst)\u001b[0m\n\u001b[0;32m    239\u001b[0m t \u001b[38;5;241m=\u001b[39m copy(t)\n\u001b[0;32m    240\u001b[0m y0 \u001b[38;5;241m=\u001b[39m copy(y0)\n\u001b[1;32m--> 241\u001b[0m output \u001b[38;5;241m=\u001b[39m \u001b[43m_odepack\u001b[49m\u001b[38;5;241;43m.\u001b[39;49m\u001b[43modeint\u001b[49m\u001b[43m(\u001b[49m\u001b[43mfunc\u001b[49m\u001b[43m,\u001b[49m\u001b[43m \u001b[49m\u001b[43my0\u001b[49m\u001b[43m,\u001b[49m\u001b[43m \u001b[49m\u001b[43mt\u001b[49m\u001b[43m,\u001b[49m\u001b[43m \u001b[49m\u001b[43margs\u001b[49m\u001b[43m,\u001b[49m\u001b[43m \u001b[49m\u001b[43mDfun\u001b[49m\u001b[43m,\u001b[49m\u001b[43m \u001b[49m\u001b[43mcol_deriv\u001b[49m\u001b[43m,\u001b[49m\u001b[43m \u001b[49m\u001b[43mml\u001b[49m\u001b[43m,\u001b[49m\u001b[43m \u001b[49m\u001b[43mmu\u001b[49m\u001b[43m,\u001b[49m\n\u001b[0;32m    242\u001b[0m \u001b[43m                         \u001b[49m\u001b[43mfull_output\u001b[49m\u001b[43m,\u001b[49m\u001b[43m \u001b[49m\u001b[43mrtol\u001b[49m\u001b[43m,\u001b[49m\u001b[43m \u001b[49m\u001b[43matol\u001b[49m\u001b[43m,\u001b[49m\u001b[43m \u001b[49m\u001b[43mtcrit\u001b[49m\u001b[43m,\u001b[49m\u001b[43m \u001b[49m\u001b[43mh0\u001b[49m\u001b[43m,\u001b[49m\u001b[43m \u001b[49m\u001b[43mhmax\u001b[49m\u001b[43m,\u001b[49m\u001b[43m \u001b[49m\u001b[43mhmin\u001b[49m\u001b[43m,\u001b[49m\n\u001b[0;32m    243\u001b[0m \u001b[43m                         \u001b[49m\u001b[43mixpr\u001b[49m\u001b[43m,\u001b[49m\u001b[43m \u001b[49m\u001b[43mmxstep\u001b[49m\u001b[43m,\u001b[49m\u001b[43m \u001b[49m\u001b[43mmxhnil\u001b[49m\u001b[43m,\u001b[49m\u001b[43m \u001b[49m\u001b[43mmxordn\u001b[49m\u001b[43m,\u001b[49m\u001b[43m \u001b[49m\u001b[43mmxords\u001b[49m\u001b[43m,\u001b[49m\n\u001b[0;32m    244\u001b[0m \u001b[43m                         \u001b[49m\u001b[38;5;28;43mint\u001b[39;49m\u001b[43m(\u001b[49m\u001b[38;5;28;43mbool\u001b[39;49m\u001b[43m(\u001b[49m\u001b[43mtfirst\u001b[49m\u001b[43m)\u001b[49m\u001b[43m)\u001b[49m\u001b[43m)\u001b[49m\n\u001b[0;32m    245\u001b[0m \u001b[38;5;28;01mif\u001b[39;00m output[\u001b[38;5;241m-\u001b[39m\u001b[38;5;241m1\u001b[39m] \u001b[38;5;241m<\u001b[39m \u001b[38;5;241m0\u001b[39m:\n\u001b[0;32m    246\u001b[0m     warning_msg \u001b[38;5;241m=\u001b[39m _msgs[output[\u001b[38;5;241m-\u001b[39m\u001b[38;5;241m1\u001b[39m]] \u001b[38;5;241m+\u001b[39m \u001b[38;5;124m\"\u001b[39m\u001b[38;5;124m Run with full_output = 1 to get quantitative information.\u001b[39m\u001b[38;5;124m\"\u001b[39m\n",
      "Input \u001b[1;32mIn [40]\u001b[0m, in \u001b[0;36mdSdt\u001b[1;34m(S, t, p, m)\u001b[0m\n\u001b[0;32m      5\u001b[0m \u001b[38;5;28;01mdef\u001b[39;00m \u001b[38;5;21mdSdt\u001b[39m(S, t, p, m):\n\u001b[1;32m----> 6\u001b[0m     \u001b[38;5;28;01mreturn\u001b[39;00m [dSdt_f[u](t,p,m,S[:n],S[n:]) \u001b[38;5;28;01mfor\u001b[39;00m u \u001b[38;5;129;01min\u001b[39;00m \u001b[38;5;28mrange\u001b[39m(\u001b[38;5;241m2\u001b[39m\u001b[38;5;241m*\u001b[39mn)]\n",
      "Input \u001b[1;32mIn [40]\u001b[0m, in \u001b[0;36m<listcomp>\u001b[1;34m(.0)\u001b[0m\n\u001b[0;32m      5\u001b[0m \u001b[38;5;28;01mdef\u001b[39;00m \u001b[38;5;21mdSdt\u001b[39m(S, t, p, m):\n\u001b[1;32m----> 6\u001b[0m     \u001b[38;5;28;01mreturn\u001b[39;00m [\u001b[43mdSdt_f\u001b[49m\u001b[43m[\u001b[49m\u001b[43mu\u001b[49m\u001b[43m]\u001b[49m\u001b[43m(\u001b[49m\u001b[43mt\u001b[49m\u001b[43m,\u001b[49m\u001b[43mp\u001b[49m\u001b[43m,\u001b[49m\u001b[43mm\u001b[49m\u001b[43m,\u001b[49m\u001b[43mS\u001b[49m\u001b[43m[\u001b[49m\u001b[43m:\u001b[49m\u001b[43mn\u001b[49m\u001b[43m]\u001b[49m\u001b[43m,\u001b[49m\u001b[43mS\u001b[49m\u001b[43m[\u001b[49m\u001b[43mn\u001b[49m\u001b[43m:\u001b[49m\u001b[43m]\u001b[49m\u001b[43m)\u001b[49m \u001b[38;5;28;01mfor\u001b[39;00m u \u001b[38;5;129;01min\u001b[39;00m \u001b[38;5;28mrange\u001b[39m(\u001b[38;5;241m2\u001b[39m\u001b[38;5;241m*\u001b[39mn)]\n",
      "File \u001b[1;32m<lambdifygenerated-7>:8\u001b[0m, in \u001b[0;36m_lambdifygenerated\u001b[1;34m(t, _Dummy_229, _Dummy_230, _Dummy_231, _Dummy_232)\u001b[0m\n\u001b[0;32m      4\u001b[0m     [_Dummy_228, _Dummy_227] \u001b[38;5;241m=\u001b[39m _Dummy_231\n\u001b[0;32m      5\u001b[0m     [_Dummy_226, _Dummy_225] \u001b[38;5;241m=\u001b[39m _Dummy_232\n\u001b[0;32m      6\u001b[0m     \u001b[38;5;28;01mreturn\u001b[39;00m (  \u001b[38;5;66;03m# Not supported in Python with SciPy and NumPy:\u001b[39;00m\n\u001b[0;32m      7\u001b[0m   \u001b[38;5;66;03m# Derivative\u001b[39;00m\n\u001b[1;32m----> 8\u001b[0m \u001b[38;5;241m-\u001b[39m(\u001b[38;5;241m-\u001b[39m_Dummy_225\u001b[38;5;241m*\u001b[39m\u001b[38;5;241m*\u001b[39m\u001b[38;5;241m2\u001b[39m\u001b[38;5;241m*\u001b[39ml\u001b[38;5;241m*\u001b[39mm2\u001b[38;5;241m*\u001b[39msin(_Dummy_227 \u001b[38;5;241m-\u001b[39m _Dummy_228) \u001b[38;5;241m+\u001b[39m \u001b[38;5;241m2\u001b[39m\u001b[38;5;241m*\u001b[39mg\u001b[38;5;241m*\u001b[39mm1\u001b[38;5;241m*\u001b[39msin(_Dummy_228) \u001b[38;5;241m+\u001b[39m l\u001b[38;5;241m*\u001b[39mm2\u001b[38;5;241m*\u001b[39mcos(_Dummy_227 \u001b[38;5;241m-\u001b[39m _Dummy_228)\u001b[38;5;241m*\u001b[39m\u001b[43mDerivative\u001b[49m(_Dummy_227, (t, \u001b[38;5;241m2\u001b[39m)))\u001b[38;5;241m/\u001b[39m(l\u001b[38;5;241m*\u001b[39m(m1 \u001b[38;5;241m+\u001b[39m m2)))\n",
      "\u001b[1;31mNameError\u001b[0m: name 'Derivative' is not defined"
     ]
    }
   ],
   "source": [
    "ans = odeint(dSdt, y0=initial_conditions, t=t_values, args=(p_values,m_values))\n",
    "q_f = ans.T[:n]"
   ]
  },
  {
   "cell_type": "code",
   "execution_count": null,
   "id": "9d47b0b1",
   "metadata": {},
   "outputs": [],
   "source": [
    "r_f = smp.lambdify((t,p,q), r)\n",
    "\n",
    "x = []\n",
    "y = []\n",
    "pos = r_f(t_values,p_values,q_f)\n",
    "for r_i in pos:\n",
    "    x_i = r_i[0]\n",
    "    y_i = r_i[1]\n",
    "   \n",
    "    x.append(x_i)\n",
    "    y.append(y_i)\n"
   ]
  },
  {
   "cell_type": "code",
   "execution_count": null,
   "id": "e8212ced",
   "metadata": {},
   "outputs": [],
   "source": [
    "fig, ax = plt.subplots(dpi=1920/16)\n",
    "line, = plt.plot([], [], \"o\", markersize=5)\n",
    "\n",
    "scale = 5\n",
    "ax.set_xlim(-scale, scale)\n",
    "ax.set_ylim(-scale, scale)\n",
    "\n",
    "textEquations = ''\n",
    "diferentialNames = ''\n",
    "for u in range(N):\n",
    "    #diferentialName = r'$' + str(smp.latex(q_dd[u])) + '$ = ' + '\\n'\n",
    "    #diferentialNames += diferentialName\n",
    "    textEquation = r'$' + str(smp.latex(sols[q_dd[u]])) + '$ '\n",
    "    textEquation += '\\n'\n",
    "    textEquations += textEquation\n",
    "\n",
    "plt.text(-scale, scale, diferentialNames)\n",
    "#line.set_label(r'$' + str(smp.latex(sols[q_dd[0]])) + '$')\n",
    "time_text = ax.text(-scale, scale-4, '', fontsize=15)\n",
    "time_text.set_text(textEquations)\n",
    "#plt.text(-5, 5, r'$' + str(smp.latex(q_dd[0])) + ' = ' + str(smp.latex(sols[q_dd[0]])) + '$',wrap=True)\n",
    "\n",
    "def animate(frame):\n",
    "    line.set_data(([0] + [y[i][0][frame] for i in range(N)], [0] + [-x[i][0][frame] for i in range(N)]))\n",
    "    time_text.set_position((-scale - frame/4, scale-4))\n",
    "    return line\n",
    "\n",
    "anim = FuncAnimation(fig, animate, frames=frames_number, interval=20)\n",
    "plt.axis('off')\n",
    "plt.show()\n"
   ]
  },
  {
   "cell_type": "code",
   "execution_count": null,
   "id": "f36c5162",
   "metadata": {},
   "outputs": [],
   "source": [
    "FFwriter = animation.FFMpegWriter(fps=fps)\n",
    "anim.save('GravityPendulum.mp4',writer=FFwriter)"
   ]
  },
  {
   "cell_type": "code",
   "execution_count": null,
   "id": "8463a0e0",
   "metadata": {},
   "outputs": [],
   "source": []
  }
 ],
 "metadata": {
  "kernelspec": {
   "display_name": "Python 3 (ipykernel)",
   "language": "python",
   "name": "python3"
  },
  "language_info": {
   "codemirror_mode": {
    "name": "ipython",
    "version": 3
   },
   "file_extension": ".py",
   "mimetype": "text/x-python",
   "name": "python",
   "nbconvert_exporter": "python",
   "pygments_lexer": "ipython3",
   "version": "3.8.5"
  }
 },
 "nbformat": 4,
 "nbformat_minor": 5
}
