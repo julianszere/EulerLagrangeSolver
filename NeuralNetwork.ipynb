{
 "cells": [
  {
   "cell_type": "code",
   "execution_count": 234,
   "id": "013c605f",
   "metadata": {},
   "outputs": [],
   "source": [
    "import sympy as smp\n",
    "import numpy as np\n",
    "from scipy.integrate import odeint\n",
    "from scipy.integrate import solve_ivp\n",
    "import matplotlib.pyplot as plt\n",
    "from matplotlib import animation\n",
    "from matplotlib.animation import FuncAnimation\n",
    "from sklearn.datasets import make_classification\n",
    "smp.init_printing()\n"
   ]
  },
  {
   "cell_type": "code",
   "execution_count": 235,
   "id": "490eead8",
   "metadata": {},
   "outputs": [],
   "source": [
    "fps = 50\n",
    "t_final = 60\n",
    "frames_number = fps*t_final\n",
    "t_values = np.linspace(0, t_final, frames_number)"
   ]
  },
  {
   "cell_type": "code",
   "execution_count": 236,
   "id": "6578f9e7",
   "metadata": {},
   "outputs": [],
   "source": [
    "P = 20\n",
    "N = 3\n",
    "M = 2\n",
    "t = smp.symbols('t', real=True, positive=True)\n",
    "\n",
    "w = [[smp.Function(f'omega^{k}_{i}', real=True)(t) for i in range(M)] for k in range(N)]\n",
    "z = [[smp.symbols(f'zeta^{u}_{i}', real=True) for i in range(M)] for u in range(P)]\n",
    "x = [[smp.symbols(f'xi^{u}_{k}', real=True) for u in range(P)] for k in range(N)]\n"
   ]
  },
  {
   "cell_type": "code",
   "execution_count": 237,
   "id": "44fffb94",
   "metadata": {},
   "outputs": [],
   "source": [
    "sum = 0\n",
    "for i in range(M):\n",
    "    for u in range(P):\n",
    "        for k in range(N):\n",
    "            sum += (z[u][i] - w[k][i] * x[k][u])**2\n",
    "\n",
    "E = smp.Rational(1,2) * sum"
   ]
  },
  {
   "cell_type": "code",
   "execution_count": 238,
   "id": "590c0b5e",
   "metadata": {},
   "outputs": [],
   "source": [
    "# From neural networks to euler\n",
    "q = w\n",
    "V = E"
   ]
  },
  {
   "cell_type": "code",
   "execution_count": 240,
   "id": "a3cfea04",
   "metadata": {},
   "outputs": [
    {
     "data": {
      "image/png": "[encoded data removed]",
      "text/latex": [
       "$\\displaystyle \\left[ \\omega^{0}_{0}{\\left(t \\right)}, \\  \\omega^{0}_{1}{\\left(t \\right)}\\right]$"
      ],
      "text/plain": [
       "[ω⁰₀(t), ω⁰₁(t)]"
      ]
     },
     "execution_count": 240,
     "metadata": {},
     "output_type": "execute_result"
    }
   ],
   "source": [
    "q[0]"
   ]
  },
  {
   "cell_type": "code",
   "execution_count": 242,
   "id": "a185bd11",
   "metadata": {},
   "outputs": [],
   "source": [
    "q_d = []\n",
    "q_dd = []\n",
    "for u in range(N):\n",
    "    for i in range(M):\n",
    "        q_d.append(smp.diff(q[u][i],t))\n",
    "        #q_dd.append(smp.diff(q_d[u][i],t))\n"
   ]
  },
  {
   "cell_type": "code",
   "execution_count": 243,
   "id": "5750f0e9",
   "metadata": {},
   "outputs": [
    {
     "data": {
      "image/png": "[encoded data removed]",
      "text/latex": [
       "$\\displaystyle \\left[ \\frac{d}{d t} \\omega^{0}_{0}{\\left(t \\right)}, \\  \\frac{d}{d t} \\omega^{0}_{1}{\\left(t \\right)}, \\  \\frac{d}{d t} \\omega^{1}_{0}{\\left(t \\right)}, \\  \\frac{d}{d t} \\omega^{1}_{1}{\\left(t \\right)}, \\  \\frac{d}{d t} \\omega^{2}_{0}{\\left(t \\right)}, \\  \\frac{d}{d t} \\omega^{2}_{1}{\\left(t \\right)}\\right]$"
      ],
      "text/plain": [
       "⎡d           d           d           d           d           d         ⎤\n",
       "⎢──(ω⁰₀(t)), ──(ω⁰₁(t)), ──(ω¹₀(t)), ──(ω¹₁(t)), ──(ω²₀(t)), ──(ω²₁(t))⎥\n",
       "⎣dt          dt          dt          dt          dt          dt        ⎦"
      ]
     },
     "execution_count": 243,
     "metadata": {},
     "output_type": "execute_result"
    }
   ],
   "source": [
    "q_d"
   ]
  },
  {
   "cell_type": "code",
   "execution_count": null,
   "id": "328fde3b",
   "metadata": {},
   "outputs": [],
   "source": [
    "T = 0\n",
    "for k in range(N):\n",
    "    T += q_d[k]**2\n",
    "T = smp.Rational(1,2) * T"
   ]
  },
  {
   "cell_type": "code",
   "execution_count": null,
   "id": "fc61bb81",
   "metadata": {},
   "outputs": [],
   "source": [
    "L = (T - V).simplify()"
   ]
  },
  {
   "cell_type": "code",
   "execution_count": null,
   "id": "5fcd05da",
   "metadata": {},
   "outputs": [],
   "source": [
    "E_L = [smp.diff(L, q[u]) - smp.diff(smp.diff(L, q_d[u]), t).simplify() for u in range(N)]"
   ]
  },
  {
   "cell_type": "code",
   "execution_count": null,
   "id": "aa5a6a6f",
   "metadata": {},
   "outputs": [],
   "source": [
    "equilibrum_eq = [expr.subs([(sym, 0) for sym in q_dd]) for expr in E_L]"
   ]
  },
  {
   "cell_type": "code",
   "execution_count": null,
   "id": "82d138a9",
   "metadata": {},
   "outputs": [],
   "source": [
    "x_data, z_data = make_classification(n_samples=P, n_features=N, n_redundant=0, n_classes=2, n_clusters_per_class=1, class_sep=10)\n",
    "x_data[:, :1] = 1\n",
    "z_data"
   ]
  },
  {
   "cell_type": "code",
   "execution_count": null,
   "id": "e3d4de8b",
   "metadata": {},
   "outputs": [],
   "source": [
    "eq_func = [smp.lambdify((x, z, w), equilibrum_eq[u]) for u in range(N)]\n",
    "eq_real = [eq_ifunc(x_data.T, z_data, w) for eq_ifunc in eq_func]\n",
    "w_data = list(smp.linsolve(eq_real, tuple(w)).args[0])"
   ]
  },
  {
   "cell_type": "code",
   "execution_count": null,
   "id": "20bd2568",
   "metadata": {},
   "outputs": [],
   "source": [
    "E_func = smp.lambdify((x,z,w), E)\n",
    "E_func(x_data.T, z_data, w_data)"
   ]
  },
  {
   "cell_type": "code",
   "execution_count": null,
   "id": "f3d0f7c7",
   "metadata": {},
   "outputs": [],
   "source": [
    "E_func(x_data.T, z_data, np.random.random(3))"
   ]
  },
  {
   "cell_type": "code",
   "execution_count": null,
   "id": "f4817ea4",
   "metadata": {},
   "outputs": [],
   "source": [
    "def sep(x):\n",
    "  return -w_data[1] / w_data[2] * x + w_data[0] / w_data[2]\n",
    "\n",
    "x = np.linspace(np.min(x_data[:,1]), np.max(x_data[:,1]), 20)\n",
    "plt.plot(x, sep(x))\n",
    "\n",
    "\n",
    "\n",
    "color = {-1: 'red', 1:'blue'}\n",
    "for i in range(P):\n",
    "  plt.scatter([x_data[i,1]], [x_data[i,2]], c=color[z_data[i]])"
   ]
  },
  {
   "cell_type": "markdown",
   "id": "d6810644",
   "metadata": {},
   "source": []
  },
  {
   "cell_type": "code",
   "execution_count": null,
   "id": "5833d989",
   "metadata": {},
   "outputs": [],
   "source": [
    "sols = {}\n",
    "for acceleration, equation in zip(q_dd, E_L):\n",
    "    c = smp.diff(equation, acceleration)\n",
    "    solution = (acceleration - equation/c).simplify()\n",
    "    sols[acceleration] = solution\n",
    "\n",
    "sols"
   ]
  },
  {
   "cell_type": "code",
   "execution_count": null,
   "id": "ff1b420a",
   "metadata": {},
   "outputs": [],
   "source": [
    "dvdt_f = [smp.lambdify((t,p,m,q,q_d), sols[q_dd[u]]) for u in range(n)]\n",
    "drdt_f = [smp.lambdify((t,p,m,q,q_d), q_d[u]) for u in range(n)]\n",
    "\n",
    "dSdt_f = drdt_f + dvdt_f\n",
    "def dSdt(S, t, p, m):\n",
    "    return [dSdt_f[u](t,p,m,S[:n],S[n:]) for u in range(2*n)]"
   ]
  },
  {
   "cell_type": "code",
   "execution_count": null,
   "id": "14ea67ce",
   "metadata": {},
   "outputs": [],
   "source": [
    "ans = odeint(dSdt, y0=initial_conditions, t=t_values, args=(p_values,m_values))\n",
    "q_f = ans.T[:n]"
   ]
  },
  {
   "cell_type": "code",
   "execution_count": null,
   "id": "9d47b0b1",
   "metadata": {},
   "outputs": [],
   "source": [
    "r_f = smp.lambdify((t,p,q), r)\n",
    "\n",
    "x = []\n",
    "y = []\n",
    "pos = r_f(t_values,p_values,q_f)\n",
    "for r_i in pos:\n",
    "    x_i = r_i[0]\n",
    "    y_i = r_i[1]\n",
    "   \n",
    "    x.append(x_i)\n",
    "    y.append(y_i)\n"
   ]
  },
  {
   "cell_type": "code",
   "execution_count": null,
   "id": "e8212ced",
   "metadata": {},
   "outputs": [],
   "source": [
    "fig, ax = plt.subplots(dpi=1920/16)\n",
    "line, = plt.plot([], [], \"o\", markersize=5)\n",
    "\n",
    "scale = 5\n",
    "ax.set_xlim(-scale, scale)\n",
    "ax.set_ylim(-scale, scale)\n",
    "\n",
    "textEquations = ''\n",
    "diferentialNames = ''\n",
    "for u in range(N):\n",
    "    #diferentialName = r'$' + str(smp.latex(q_dd[u])) + '$ = ' + '\\n'\n",
    "    #diferentialNames += diferentialName\n",
    "    textEquation = r'$' + str(smp.latex(sols[q_dd[u]])) + '$ '\n",
    "    textEquation += '\\n'\n",
    "    textEquations += textEquation\n",
    "\n",
    "plt.text(-scale, scale, diferentialNames)\n",
    "#line.set_label(r'$' + str(smp.latex(sols[q_dd[0]])) + '$')\n",
    "time_text = ax.text(-scale, scale-4, '', fontsize=15)\n",
    "time_text.set_text(textEquations)\n",
    "#plt.text(-5, 5, r'$' + str(smp.latex(q_dd[0])) + ' = ' + str(smp.latex(sols[q_dd[0]])) + '$',wrap=True)\n",
    "\n",
    "def animate(frame):\n",
    "    line.set_data(([0] + [y[i][0][frame] for i in range(N)], [0] + [-x[i][0][frame] for i in range(N)]))\n",
    "    time_text.set_position((-scale - frame/4, scale-4))\n",
    "    return line\n",
    "\n",
    "anim = FuncAnimation(fig, animate, frames=frames_number, interval=20)\n",
    "plt.axis('off')\n",
    "plt.show()\n"
   ]
  },
  {
   "cell_type": "code",
   "execution_count": null,
   "id": "f36c5162",
   "metadata": {},
   "outputs": [],
   "source": [
    "FFwriter = animation.FFMpegWriter(fps=fps)\n",
    "anim.save('GravityPendulum.mp4',writer=FFwriter)"
   ]
  },
  {
   "cell_type": "code",
   "execution_count": null,
   "id": "8463a0e0",
   "metadata": {},
   "outputs": [],
   "source": []
  }
 ],
 "metadata": {
  "kernelspec": {
   "display_name": "Python 3 (ipykernel)",
   "language": "python",
   "name": "python3"
  },
  "language_info": {
   "codemirror_mode": {
    "name": "ipython",
    "version": 3
   },
   "file_extension": ".py",
   "mimetype": "text/x-python",
   "name": "python",
   "nbconvert_exporter": "python",
   "pygments_lexer": "ipython3",
   "version": "3.11.7"
  }
 },
 "nbformat": 4,
 "nbformat_minor": 5
}
